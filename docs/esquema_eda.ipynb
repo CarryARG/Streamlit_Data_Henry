{
 "cells": [
  {
   "cell_type": "markdown",
   "metadata": {},
   "source": [
    "# EDA"
   ]
  },
  {
   "cell_type": "markdown",
   "metadata": {},
   "source": [
    "Importación de Librerías"
   ]
  },
  {
   "cell_type": "code",
   "execution_count": null,
   "metadata": {},
   "outputs": [],
   "source": [
    "import pandas as pd\n",
    "import seaborn as sns\n",
    "import matplotlib.pyplot as plt\n",
    "import warnings\n",
    "warnings.filterwarnings(\"ignore\")\n",
    "from datetime import datetime\n",
    "sns.set_theme()"
   ]
  },
  {
   "cell_type": "markdown",
   "metadata": {},
   "source": [
    "Acceso al archivo de datos y asignación a un dataframe "
   ]
  },
  {
   "cell_type": "code",
   "execution_count": null,
   "metadata": {},
   "outputs": [],
   "source": [
    "# Acceso al archivo parquet y asignación a un dataframe\n",
    "df_convencional = pd.read_parquet('../Data/df_vfed.parquet')\n",
    "yellow_trips = pd.read_parquet('..\\\\sources\\\\yellow_tripdata_2024-01.parquet')\n",
    "green_trips = pd.read_parquet('..\\\\sources\\\\green_tripdata_2024-01.parquet')\n",
    "fhv_trips = pd.read_parquet('..\\\\sources\\\\fhv_tripdata_2024-01.parquet')"
   ]
  },
  {
   "cell_type": "code",
   "execution_count": null,
   "metadata": {},
   "outputs": [],
   "source": [
    "# Acceso al archivo csv y asignación a un dataframe\n",
    "df = pd.read_csv('../Data/costo_operacional_vehiculos_clean.csv')"
   ]
  },
  {
   "cell_type": "markdown",
   "metadata": {},
   "source": [
    "Manejo de Valores Nulos y Tipos de Datos"
   ]
  },
  {
   "cell_type": "markdown",
   "metadata": {},
   "source": [
    "**ETL 3**\n",
    "\n",
    "Yellow Trips:\n",
    "\n",
    "passenger_count, RatecodeID, store_and_fwd_flag, congestion_surcharge, y Airport_fee tienen un número considerable de valores nulos.\n",
    "\n",
    "Podríamos imputar valores, eliminar registros nulos, o considerar estas variables como no críticas si los valores nulos son significativos.\n",
    "\n",
    "Green Trips:\n",
    "\n",
    "Similar a Yellow Trips, las columnas passenger_count, RatecodeID, store_and_fwd_flag, ehail_fee, y congestion_surcharge tienen valores nulos.\n",
    "\n",
    "Evaluar si la imputación o eliminación de estos datos afectará el análisis.\n",
    "\n",
    "FHV:\n",
    "\n",
    "PUlocationID, DOlocationID, y SR_Flag tienen una gran cantidad de valores nulos.\n",
    "\n",
    "Decidir cómo manejar estos nulos, especialmente si afectan el análisis espacial o de tipo de viaje."
   ]
  },
  {
   "cell_type": "code",
   "execution_count": null,
   "metadata": {},
   "outputs": [],
   "source": [
    "# Decisión basada en el análisis\n",
    "yellow_trips = yellow_trips.dropna(subset=['passenger_count', 'RatecodeID'])\n",
    "green_trips = green_trips.dropna(subset=['passenger_count', 'RatecodeID','trip_type'])\n",
    "fhv_trips = fhv_trips.dropna(subset=['PUlocationID', 'DOlocationID'])\n",
    "\n",
    "\n",
    "fhv_trips = fhv_trips.fillna({'SR_Flag': 0})\n",
    "green_trips = green_trips.drop(columns=['ehail_fee'])"
   ]
  }
 ],
 "metadata": {
  "language_info": {
   "name": "python"
  }
 },
 "nbformat": 4,
 "nbformat_minor": 2
}
