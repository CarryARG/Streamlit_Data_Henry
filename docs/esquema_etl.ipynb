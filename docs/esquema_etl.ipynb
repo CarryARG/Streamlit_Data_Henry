{
 "cells": [
  {
   "cell_type": "markdown",
   "metadata": {},
   "source": [
    "# ETL"
   ]
  },
  {
   "cell_type": "markdown",
   "metadata": {},
   "source": [
    "Importación de Librerías"
   ]
  },
  {
   "cell_type": "code",
   "execution_count": null,
   "metadata": {},
   "outputs": [],
   "source": [
    "import pandas as pd\n",
    "import warnings\n",
    "warnings.filterwarnings(\"ignore\")"
   ]
  },
  {
   "cell_type": "markdown",
   "metadata": {},
   "source": [
    "Acceso al archivo de datos y asignación a un dataframe "
   ]
  },
  {
   "cell_type": "code",
   "execution_count": null,
   "metadata": {},
   "outputs": [],
   "source": [
    "# Acceso al archivo csv y asignación a un dataframe \n",
    "df_vfed = pd.read_csv('sources/Vehicle Fuel Economy Data.csv')\n",
    "df = pd.read_csv('sources/costo_operacional_vehiculos.csv')"
   ]
  },
  {
   "cell_type": "code",
   "execution_count": null,
   "metadata": {},
   "outputs": [],
   "source": [
    "# Acceso al archivo parquet y asignación a un dataframe \n",
    "df_yellow_tripdata = pd.read_parquet('sources\\yellow_tripdata_2024-01.parquet')\n",
    "df_green_tripdata = pd.read_parquet('sources\\green_tripdata_2024-01.parquet')\n",
    "df_fhv_tripdata = pd.read_parquet('sources\\\\fhv_tripdata_2024-01.parquet')"
   ]
  },
  {
   "cell_type": "markdown",
   "metadata": {},
   "source": [
    "Visualización de la información del Dataframe"
   ]
  },
  {
   "cell_type": "code",
   "execution_count": null,
   "metadata": {},
   "outputs": [],
   "source": [
    "df.info()\n",
    "df_yellow_tripdata.info()\n",
    "df_green_tripdata.info()\n",
    "df_fhv_tripdata.info()\n",
    "df_vfed.info()"
   ]
  },
  {
   "cell_type": "markdown",
   "metadata": {},
   "source": [
    "Visualización de los Datos Iniciales del Dataframe"
   ]
  },
  {
   "cell_type": "code",
   "execution_count": null,
   "metadata": {},
   "outputs": [],
   "source": [
    "df_vfed.head()\n",
    "df.head()\n",
    "df_yellow_tripdata.head()\n",
    "df_green_tripdata.head()\n",
    "df_fhv_tripdata.head()"
   ]
  },
  {
   "cell_type": "markdown",
   "metadata": {},
   "source": [
    "Visualización de los Datos Finales del Dataframe"
   ]
  },
  {
   "cell_type": "code",
   "execution_count": null,
   "metadata": {},
   "outputs": [],
   "source": [
    "df_vfed.tail()\n",
    "df.tail()\n",
    "df_yellow_tripdata.tail()\n",
    "df_green_tripdata.tail()\n",
    "df_fhv_tripdata.tail()"
   ]
  },
  {
   "cell_type": "markdown",
   "metadata": {},
   "source": [
    "Mantener columnas necesarias en el Dataframe\n",
    "\n",
    "Se recomienda usar el metodo drop ya que el dataframe original se va a usar modificandolo y no es necesario crear un dataframe nuevo que consume memoria y es menos eficiente."
   ]
  },
  {
   "cell_type": "code",
   "execution_count": null,
   "metadata": {},
   "outputs": [],
   "source": [
    "#ETL1\n",
    "#  Eliminación de columnas no necesarias\n",
    "df_vfed_col_eli = ['barrelsA08','charge240','fuelType','barrels08','range',\n",
    "       'city08U','cityA08','cityA08U','cityCD','cityE','cityUF',\n",
    "       'comb08', 'comb08U','combA08', 'combA08U', 'combE', 'combinedCD', 'combinedUF',\n",
    "       'cylinders','displ', 'drive', 'engId', 'eng_dscr', 'feScore',\n",
    "       'ghgScore', 'ghgScoreA','co2A', 'co2TailpipeAGpm', 'co2TailpipeGpm',\n",
    "       'highway08', 'highway08U', 'highwayA08', 'highwayA08U',\n",
    "       'highwayCD', 'highwayE', 'highwayUF', 'hlv', 'hpv', 'id', 'lv2', 'lv4',\n",
    "       'mpgData', 'phevBlended', 'pv2', 'pv4','rangeCity',\n",
    "       'rangeCityA', 'rangeHwy', 'rangeHwyA', 'trany', 'UCity', 'UCityA',\n",
    "       'UHighway', 'UHighwayA', 'youSaveSpend', 'guzzler', 'trans_dscr',\n",
    "       'tCharger', 'sCharger', 'atvType', 'evMotor','rangeA',\n",
    "       'mfrCode', 'c240Dscr', 'charge240b', 'c240bDscr', 'createdOn',\n",
    "       'modifiedOn', 'startStop', 'phevCity', 'phevHwy', 'phevComb']\n",
    "df_vfed.drop(df_vfed_col_eli, axis=1, inplace=True)\n",
    "df_vfed = df_vfed.reset_index(drop=True)"
   ]
  },
  {
   "cell_type": "code",
   "execution_count": null,
   "metadata": {},
   "outputs": [],
   "source": [
    "# ETL 2\n",
    "# Eliminar las columnas innecesarias\n",
    "columns_to_keep = ['Manuf', 'Model', 'Desc', 'Fuel_Type', 'Fuel_Cost', 'Electric_Cost', 'Total_Cost', 'Noise_Level']\n",
    "df_clean = df[columns_to_keep].copy()"
   ]
  },
  {
   "cell_type": "markdown",
   "metadata": {},
   "source": [
    "Renombrar Columnas"
   ]
  },
  {
   "cell_type": "code",
   "execution_count": null,
   "metadata": {},
   "outputs": [],
   "source": [
    "# ETL 1\n",
    "df_vfed.rename(columns={'city08':'Miles per gallon (mpg)','co2':'CO2 (p/mile)','fuelCost08':'FuelCost',\n",
    "                        'fuelCostA08':'FuelCostA','fuelType1':'Fuel',\n",
    "                        'VClass':'Category','fuelType2':'Alternative Fuel'}, inplace=True)"
   ]
  },
  {
   "cell_type": "markdown",
   "metadata": {},
   "source": [
    "Modificar valores de las columnas"
   ]
  },
  {
   "cell_type": "code",
   "execution_count": null,
   "metadata": {},
   "outputs": [],
   "source": [
    "# ETL 1\n",
    "# Cambiamos NaN del Combustible Alternativo a No\n",
    "df_vfed['Alternative Fuel'] = df_vfed['Alternative Fuel'].fillna('No')"
   ]
  },
  {
   "cell_type": "code",
   "execution_count": null,
   "metadata": {},
   "outputs": [],
   "source": [
    "# ETL 2\n",
    "# Eliminar el símbolo de libra y convertir las columnas de costos a numéricas\n",
    "df_clean['Fuel_Cost'] = df_clean['Fuel_Cost'].replace('[£,]', '', regex=True).astype(float)\n",
    "df_clean['Electric_Cost'] = df_clean['Electric_Cost'].replace('[£,]', '', regex=True).astype(float)\n",
    "df_clean['Total_Cost'] = df_clean['Total_Cost'].replace('[£,]', '', regex=True).astype(float)\n",
    "\n",
    "# Asumamos una tasa de conversión de 1 libra esterlina = 1.17 euros y 1 euro = 1.10 dólares\n",
    "gbp_to_eur = 1.17\n",
    "eur_to_usd = 1.10\n",
    "\n",
    "# Convertir los costos de libras a euros y luego a dólares\n",
    "df_clean['Fuel_Cost'] = df_clean['Fuel_Cost'] * gbp_to_eur * eur_to_usd\n",
    "df_clean['Electric_Cost'] = df_clean['Electric_Cost'] * gbp_to_eur * eur_to_usd\n",
    "df_clean['Total_Cost'] = df_clean['Total_Cost'] * gbp_to_eur * eur_to_usd\n",
    "\n",
    "# Factor de conversión de millas a kilómetros\n",
    "miles_to_km = 1.60934\n",
    "\n",
    "# Ajustar los costos de 10,000 millas a 10,000 kilómetros\n",
    "conversion_factor = 10000 / (10000 * miles_to_km)\n",
    "\n",
    "df_clean['Fuel_Cost'] *= conversion_factor\n",
    "df_clean['Electric_Cost'] *= conversion_factor\n",
    "df_clean['Total_Cost'] *= conversion_factor"
   ]
  },
  {
   "cell_type": "code",
   "execution_count": null,
   "metadata": {},
   "outputs": [],
   "source": [
    "# ETL 3\n",
    "# Transformaciones adicionales (ejemplo: convertir formatos de fecha)\n",
    "if 'pickup_datetime' in df_fhv_tripdata.columns:\n",
    "    df_fhv_tripdata['pickup_datetime'] = pd.to_datetime(df_fhv_tripdata['pickup_datetime'])\n",
    "if 'dropoff_datetime' in df.columns:\n",
    "    df_fhv_tripdata['dropoff_datetime'] = pd.to_datetime(df_fhv_tripdata['dropoff_datetime'])"
   ]
  },
  {
   "cell_type": "markdown",
   "metadata": {},
   "source": [
    "Modificar filas"
   ]
  },
  {
   "cell_type": "code",
   "execution_count": null,
   "metadata": {},
   "outputs": [],
   "source": [
    "#ETL 1\n",
    "# Eliminamos las filas donde 'Fuel' es nulo\n",
    "df_vfed = df_vfed[df_vfed['Fuel'].notna()]"
   ]
  },
  {
   "cell_type": "markdown",
   "metadata": {},
   "source": [
    "Eliminar Duplicados"
   ]
  },
  {
   "cell_type": "code",
   "execution_count": null,
   "metadata": {},
   "outputs": [],
   "source": [
    "#ETL 1\n",
    "# Eliminamos las filas con duplicados\n",
    "df_vfed = df_vfed.drop_duplicates()\n",
    "df_vfed.reset_index(drop=True, inplace=True)"
   ]
  },
  {
   "cell_type": "code",
   "execution_count": null,
   "metadata": {},
   "outputs": [],
   "source": [
    "#ETL 2\n",
    "# Eliminar duplicados (mantener la última ocurrencia)\n",
    "df_clean = df_clean.drop_duplicates()\n",
    "df_clean.reset_index(drop=True, inplace=True)"
   ]
  },
  {
   "cell_type": "code",
   "execution_count": null,
   "metadata": {},
   "outputs": [],
   "source": [
    "# ETL 3\n",
    "# Limpiar datos: eliminar duplicados\n",
    "df_yellow_tripdata = df_yellow_tripdata.drop_duplicates()\n",
    "df_yellow_tripdata.reset_index(drop=True, inplace=True)\n",
    "df_green_tripdata = df_green_tripdata.drop_duplicates()\n",
    "df_green_tripdata.reset_index(drop=True, inplace=True)\n",
    "df_fhv_tripdata = df_green_tripdata.drop_duplicates()\n",
    "df_fhv_tripdata.reset_index(drop=True, inplace=True)"
   ]
  },
  {
   "cell_type": "markdown",
   "metadata": {},
   "source": [
    "Guardar el Dataframe en la carpeta Data"
   ]
  },
  {
   "cell_type": "code",
   "execution_count": null,
   "metadata": {},
   "outputs": [],
   "source": [
    "#ETL 1\n",
    "# Guarda el dataframe en la carpeta Data\n",
    "df_vfed.to_parquet('Data/df_vfed.parquet', index=False)"
   ]
  },
  {
   "cell_type": "code",
   "execution_count": null,
   "metadata": {},
   "outputs": [],
   "source": [
    "#ETL 2\n",
    "# Guarda el dataframe en la carpeta Data\n",
    "df_clean.to_csv('Data/costo_operacional_vehiculos_clean.csv', index=False)"
   ]
  },
  {
   "cell_type": "code",
   "execution_count": null,
   "metadata": {},
   "outputs": [],
   "source": [
    "#ETL 3\n",
    "# Guarda el dataframe en la carpeta Data\n",
    "df_yellow_tripdata.to_parquet('Data/cleaned_yellow_tripdata_2024-01.parquet', index=False)\n",
    "df_green_tripdata.to_parquet('Data/cleaned_green_tripdata_2024-01.parquet', index=False)\n",
    "df_fhv_tripdata.to_parquet('Data/cleaned_fhv_tripdata_2024-01.parquet', index=False)"
   ]
  },
  {
   "cell_type": "markdown",
   "metadata": {},
   "source": [
    "Por una cuestion de tamaño que GitHub recomienda no subir archivos que pesen mas de 50mb, dividimos el archivo en 5 partes para luego en el EDA unirlos y seguir trabajando sin problemas"
   ]
  },
  {
   "cell_type": "code",
   "execution_count": null,
   "metadata": {},
   "outputs": [],
   "source": [
    "#ETL 3\n",
    "import numpy as np\n",
    "\n",
    "# Leer el archivo parquet\n",
    "df = pd.read_parquet('Data/cleaned_yellow_tripdata_2024-01.parquet')\n",
    "\n",
    "# Número de partes en las que quieres dividir el DataFrame\n",
    "num_parts = 5  # Cambia esto según el número de partes que desees\n",
    "\n",
    "# Dividir el DataFrame en partes iguales\n",
    "chunks = np.array_split(df, num_parts)\n",
    "\n",
    "# Guardar cada parte en un archivo parquet separado\n",
    "for i, chunk in enumerate(chunks):\n",
    "    chunk.to_parquet(f'Data/cleaned_yellow_tripdata_part_{i+1}.parquet', index=False)"
   ]
  },
  {
   "cell_type": "markdown",
   "metadata": {},
   "source": [
    "Verificación de Archivos Generados"
   ]
  },
  {
   "cell_type": "code",
   "execution_count": null,
   "metadata": {},
   "outputs": [],
   "source": [
    "#ETL 3\n",
    "import os\n",
    "\n",
    "# Verifica los archivos generados\n",
    "for filename in os.listdir('Data'):\n",
    "    if filename.startswith('cleaned_yellow_tripdata_part_') and filename.endswith('.parquet'):\n",
    "        print(filename)"
   ]
  },
  {
   "cell_type": "markdown",
   "metadata": {},
   "source": [
    "Eliminación de Archivo"
   ]
  },
  {
   "cell_type": "code",
   "execution_count": null,
   "metadata": {},
   "outputs": [],
   "source": [
    "#ETL 3\n",
    "# Eliminar el archivo\n",
    "if os.path.exists('Data/cleaned_yellow_tripdata_2024-01.parquet'):\n",
    "    os.remove('Data/cleaned_yellow_tripdata_2024-01.parquet')\n",
    "    print(f'Archivo \"Data/cleaned_yellow_tripdata_2024-01.parquet\" eliminado exitosamente.')\n",
    "else:\n",
    "    print(f'El archivo \"Data/cleaned_yellow_tripdata_2024-01.parquet\" no existe.')"
   ]
  }
 ],
 "metadata": {
  "language_info": {
   "name": "python"
  }
 },
 "nbformat": 4,
 "nbformat_minor": 2
}
