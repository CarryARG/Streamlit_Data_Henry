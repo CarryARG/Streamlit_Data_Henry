{
 "cells": [
  {
   "cell_type": "markdown",
   "metadata": {},
   "source": [
    "Importación de Librerías"
   ]
  },
  {
   "cell_type": "code",
   "execution_count": null,
   "metadata": {},
   "outputs": [],
   "source": [
    "import pandas as pd\n",
    "import warnings\n",
    "warnings.filterwarnings(\"ignore\")"
   ]
  },
  {
   "cell_type": "markdown",
   "metadata": {},
   "source": [
    "Acceso al archivo de datos y asignación a un dataframe "
   ]
  },
  {
   "cell_type": "code",
   "execution_count": null,
   "metadata": {},
   "outputs": [],
   "source": [
    "# Acceso al archivo csv y asignación a un dataframe \n",
    "df_vfed = pd.read_csv('sources/Vehicle Fuel Economy Data.csv')\n",
    "df = pd.read_csv('sources/costo_operacional_vehiculos.csv')"
   ]
  },
  {
   "cell_type": "code",
   "execution_count": null,
   "metadata": {},
   "outputs": [],
   "source": [
    "# Acceso al archivo parquet y asignación a un dataframe \n",
    "df_yellow_tripdata = pd.read_parquet('sources\\yellow_tripdata_2024-01.parquet')\n",
    "df_green_tripdata = pd.read_parquet('sources\\green_tripdata_2024-01.parquet')\n",
    "df_fhv_tripdata = pd.read_parquet('sources\\\\fhv_tripdata_2024-01.parquet')"
   ]
  },
  {
   "cell_type": "markdown",
   "metadata": {},
   "source": [
    "Visualización de la información del Dataframe"
   ]
  },
  {
   "cell_type": "code",
   "execution_count": null,
   "metadata": {},
   "outputs": [],
   "source": [
    "df.info()\n",
    "df_yellow_tripdata.info()\n",
    "df_vfed.info()"
   ]
  },
  {
   "cell_type": "markdown",
   "metadata": {},
   "source": [
    "Visualización de los Datos Iniciales del Dataframe"
   ]
  },
  {
   "cell_type": "code",
   "execution_count": null,
   "metadata": {},
   "outputs": [],
   "source": [
    "df_vfed.head()\n",
    "df.head()\n",
    "df_yellow_tripdata.head()\n",
    "df_green_tripdata.head()\n",
    "df_fhv_tripdata.head()"
   ]
  },
  {
   "cell_type": "markdown",
   "metadata": {},
   "source": [
    "Visualización de los Datos Finales del Dataframe"
   ]
  },
  {
   "cell_type": "code",
   "execution_count": null,
   "metadata": {},
   "outputs": [],
   "source": [
    "df_vfed.tail()\n",
    "df.tail()\n",
    "df_yellow_tripdata.tail()\n",
    "df_green_tripdata.tail()\n",
    "df_fhv_tripdata.tail()"
   ]
  },
  {
   "cell_type": "markdown",
   "metadata": {},
   "source": [
    "Mantener columnas necesarias en el Dataframe"
   ]
  },
  {
   "cell_type": "code",
   "execution_count": null,
   "metadata": {},
   "outputs": [],
   "source": [
    "#  Eliminación de columnas no necesarias\n",
    "df_vfed_col_eli = ['barrelsA08','charge240','fuelType','barrels08','range',\n",
    "       'city08U','cityA08','cityA08U','cityCD','cityE','cityUF',\n",
    "       'comb08', 'comb08U','combA08', 'combA08U', 'combE', 'combinedCD', 'combinedUF',\n",
    "       'cylinders','displ', 'drive', 'engId', 'eng_dscr', 'feScore',\n",
    "       'ghgScore', 'ghgScoreA','co2A', 'co2TailpipeAGpm', 'co2TailpipeGpm',\n",
    "       'highway08', 'highway08U', 'highwayA08', 'highwayA08U',\n",
    "       'highwayCD', 'highwayE', 'highwayUF', 'hlv', 'hpv', 'id', 'lv2', 'lv4',\n",
    "       'mpgData', 'phevBlended', 'pv2', 'pv4','rangeCity',\n",
    "       'rangeCityA', 'rangeHwy', 'rangeHwyA', 'trany', 'UCity', 'UCityA',\n",
    "       'UHighway', 'UHighwayA', 'youSaveSpend', 'guzzler', 'trans_dscr',\n",
    "       'tCharger', 'sCharger', 'atvType', 'evMotor','rangeA',\n",
    "       'mfrCode', 'c240Dscr', 'charge240b', 'c240bDscr', 'createdOn',\n",
    "       'modifiedOn', 'startStop', 'phevCity', 'phevHwy', 'phevComb']\n",
    "df_vfed.drop(df_vfed_col_eli, axis=1, inplace=True)\n",
    "df_vfed = df_vfed.reset_index(drop=True)"
   ]
  },
  {
   "cell_type": "code",
   "execution_count": null,
   "metadata": {},
   "outputs": [],
   "source": [
    "# Eliminar las columnas innecesarias\n",
    "columns_to_keep = ['Manuf', 'Model', 'Desc', 'Fuel_Type', 'Fuel_Cost', 'Electric_Cost', 'Total_Cost', 'Noise_Level']\n",
    "df_clean = df[columns_to_keep].copy()"
   ]
  }
 ],
 "metadata": {
  "language_info": {
   "name": "python"
  }
 },
 "nbformat": 4,
 "nbformat_minor": 2
}
