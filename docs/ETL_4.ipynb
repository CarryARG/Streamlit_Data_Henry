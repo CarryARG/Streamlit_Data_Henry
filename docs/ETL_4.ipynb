{
 "cells": [
  {
   "cell_type": "markdown",
   "metadata": {},
   "source": [
    "# ETL"
   ]
  },
  {
   "cell_type": "markdown",
   "metadata": {},
   "source": [
    "### Cargo el dataset correspondiente desde la carpeta /sources para posteriormente analizarlo, limpiarlo y guardarlo en la carpeta /Data"
   ]
  },
  {
   "cell_type": "code",
   "execution_count": 1,
   "metadata": {},
   "outputs": [],
   "source": [
    "# Importamos las librerias que vamos a utilizar\n",
    "import pandas as pd\n",
    "import warnings\n",
    "warnings.filterwarnings(\"ignore\")"
   ]
  },
  {
   "cell_type": "code",
   "execution_count": 2,
   "metadata": {},
   "outputs": [],
   "source": [
    "# Acceso a el cvs y se pasa a un dataframe \n",
    "data = pd.read_csv('../sources/ref_temperatura_lluvia_jun2022_jun2024.csv')"
   ]
  },
  {
   "cell_type": "code",
   "execution_count": 3,
   "metadata": {},
   "outputs": [
    {
     "data": {
      "text/html": [
       "<div>\n",
       "<style scoped>\n",
       "    .dataframe tbody tr th:only-of-type {\n",
       "        vertical-align: middle;\n",
       "    }\n",
       "\n",
       "    .dataframe tbody tr th {\n",
       "        vertical-align: top;\n",
       "    }\n",
       "\n",
       "    .dataframe thead th {\n",
       "        text-align: right;\n",
       "    }\n",
       "</style>\n",
       "<table border=\"1\" class=\"dataframe\">\n",
       "  <thead>\n",
       "    <tr style=\"text-align: right;\">\n",
       "      <th></th>\n",
       "      <th>latitude</th>\n",
       "      <th>longitude</th>\n",
       "      <th>elevation</th>\n",
       "      <th>utc_offset_seconds</th>\n",
       "      <th>timezone</th>\n",
       "      <th>timezone_abbreviation</th>\n",
       "    </tr>\n",
       "  </thead>\n",
       "  <tbody>\n",
       "    <tr>\n",
       "      <th>0</th>\n",
       "      <td>52.54833</td>\n",
       "      <td>13.407822</td>\n",
       "      <td>38.0</td>\n",
       "      <td>-14400</td>\n",
       "      <td>America/New_York</td>\n",
       "      <td>EDT</td>\n",
       "    </tr>\n",
       "    <tr>\n",
       "      <th>1</th>\n",
       "      <td>time</td>\n",
       "      <td>temperature_2m (°C)</td>\n",
       "      <td>rain (mm)</td>\n",
       "      <td>is_day ()</td>\n",
       "      <td>NaN</td>\n",
       "      <td>NaN</td>\n",
       "    </tr>\n",
       "    <tr>\n",
       "      <th>2</th>\n",
       "      <td>2022-06-30T00:00</td>\n",
       "      <td>17.7</td>\n",
       "      <td>0.10</td>\n",
       "      <td>1</td>\n",
       "      <td>NaN</td>\n",
       "      <td>NaN</td>\n",
       "    </tr>\n",
       "    <tr>\n",
       "      <th>3</th>\n",
       "      <td>2022-06-30T01:00</td>\n",
       "      <td>18.2</td>\n",
       "      <td>0.00</td>\n",
       "      <td>1</td>\n",
       "      <td>NaN</td>\n",
       "      <td>NaN</td>\n",
       "    </tr>\n",
       "    <tr>\n",
       "      <th>4</th>\n",
       "      <td>2022-06-30T02:00</td>\n",
       "      <td>19.4</td>\n",
       "      <td>0.00</td>\n",
       "      <td>1</td>\n",
       "      <td>NaN</td>\n",
       "      <td>NaN</td>\n",
       "    </tr>\n",
       "  </tbody>\n",
       "</table>\n",
       "</div>"
      ],
      "text/plain": [
       "           latitude            longitude  elevation utc_offset_seconds  \\\n",
       "0          52.54833            13.407822       38.0             -14400   \n",
       "1              time  temperature_2m (°C)  rain (mm)          is_day ()   \n",
       "2  2022-06-30T00:00                 17.7       0.10                  1   \n",
       "3  2022-06-30T01:00                 18.2       0.00                  1   \n",
       "4  2022-06-30T02:00                 19.4       0.00                  1   \n",
       "\n",
       "           timezone timezone_abbreviation  \n",
       "0  America/New_York                   EDT  \n",
       "1               NaN                   NaN  \n",
       "2               NaN                   NaN  \n",
       "3               NaN                   NaN  \n",
       "4               NaN                   NaN  "
      ]
     },
     "execution_count": 3,
     "metadata": {},
     "output_type": "execute_result"
    }
   ],
   "source": [
    "# Visualización de manera general\n",
    "data.head()"
   ]
  },
  {
   "cell_type": "markdown",
   "metadata": {},
   "source": [
    "## Identifico y separo las diferentes partes del dataset"
   ]
  },
  {
   "cell_type": "markdown",
   "metadata": {},
   "source": [
    "- Primeras filas contienen información geográfica y de zona horaria.\n",
    "\n",
    "- Filas posteriores contienen datos metereológicos."
   ]
  },
  {
   "cell_type": "markdown",
   "metadata": {},
   "source": [
    "### Limpieza de la sección meteorológica y geográfica."
   ]
  },
  {
   "cell_type": "code",
   "execution_count": 4,
   "metadata": {},
   "outputs": [],
   "source": [
    "# Identifico el índice dónde empiezan los datos meteorológicos\n",
    "weather_start_idx = data[data['latitude'] == 'time'].index[0]"
   ]
  },
  {
   "cell_type": "code",
   "execution_count": 5,
   "metadata": {},
   "outputs": [],
   "source": [
    "# Separo datos geográficos y de zona horaria\n",
    "geo_df = data.iloc[:weather_start_idx].copy()"
   ]
  },
  {
   "cell_type": "code",
   "execution_count": 6,
   "metadata": {},
   "outputs": [],
   "source": [
    "# Separo datos meteorológicos\n",
    "weather_df = data.iloc[weather_start_idx+1:].copy()"
   ]
  },
  {
   "cell_type": "code",
   "execution_count": 7,
   "metadata": {},
   "outputs": [],
   "source": [
    "# Restablezco los índices de ambos df\n",
    "geo_df.reset_index(drop=True, inplace=True)\n",
    "weather_df.reset_index(drop=True, inplace=True)"
   ]
  },
  {
   "cell_type": "code",
   "execution_count": 8,
   "metadata": {},
   "outputs": [],
   "source": [
    "# Convierto columnas a tipos de datos nmericos flotantes\n",
    "geo_df['latitude'] = geo_df['latitude'].astype(float)\n",
    "geo_df['longitude'] = geo_df['longitude'].astype(float)\n",
    "geo_df['elevation'] = geo_df['elevation'].astype(float)\n",
    "geo_df['utc_offset_seconds'] = geo_df['utc_offset_seconds'].astype(int)"
   ]
  },
  {
   "cell_type": "code",
   "execution_count": 9,
   "metadata": {},
   "outputs": [],
   "source": [
    "# Renombro las columnas\n",
    "weather_df.columns = ['time', 'temperature_2m (°C)', 'rain (mm)', 'is_day ()', 'extra_1', 'extra_2']"
   ]
  },
  {
   "cell_type": "code",
   "execution_count": 10,
   "metadata": {},
   "outputs": [],
   "source": [
    "# Elimino columnas innecesarias\n",
    "weather_df = weather_df[['time', 'temperature_2m (°C)', 'rain (mm)', 'is_day ()']]"
   ]
  },
  {
   "cell_type": "code",
   "execution_count": 11,
   "metadata": {},
   "outputs": [],
   "source": [
    "# Convierto la columna de tiempo al formato datetime\n",
    "weather_df['time'] = pd.to_datetime(weather_df['time'])"
   ]
  },
  {
   "cell_type": "code",
   "execution_count": 12,
   "metadata": {},
   "outputs": [],
   "source": [
    "# Guarda los dataframes en la carpeta Data\n",
    "geo_df.to_parquet('../Data/datos_geograficos_limpios.parquet', index=False)\n",
    "weather_df.to_parquet('../Data/datos_meteorologicos_limpios.parquet', index=False)"
   ]
  }
 ],
 "metadata": {
  "kernelspec": {
   "display_name": "Python 3",
   "language": "python",
   "name": "python3"
  },
  "language_info": {
   "codemirror_mode": {
    "name": "ipython",
    "version": 3
   },
   "file_extension": ".py",
   "mimetype": "text/x-python",
   "name": "python",
   "nbconvert_exporter": "python",
   "pygments_lexer": "ipython3",
   "version": "3.10.10"
  }
 },
 "nbformat": 4,
 "nbformat_minor": 2
}
