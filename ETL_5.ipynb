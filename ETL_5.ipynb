{
 "cells": [
  {
   "cell_type": "code",
   "execution_count": 1,
   "metadata": {},
   "outputs": [],
   "source": [
    "# Importamos las librerias que vamos a utilizar\n",
    "import pandas as pd\n",
    "from datetime import datetime\n",
    "import warnings\n",
    "warnings.filterwarnings(\"ignore\")"
   ]
  },
  {
   "cell_type": "code",
   "execution_count": 2,
   "metadata": {},
   "outputs": [],
   "source": [
    "# Descargamos el cvs de calidad del aire a un dataframe \n",
    "df_Calidad_del_aire = pd.read_csv('sources/Calidad_del_aire.csv')"
   ]
  },
  {
   "cell_type": "code",
   "execution_count": 3,
   "metadata": {},
   "outputs": [
    {
     "data": {
      "text/html": [
       "<div>\n",
       "<style scoped>\n",
       "    .dataframe tbody tr th:only-of-type {\n",
       "        vertical-align: middle;\n",
       "    }\n",
       "\n",
       "    .dataframe tbody tr th {\n",
       "        vertical-align: top;\n",
       "    }\n",
       "\n",
       "    .dataframe thead th {\n",
       "        text-align: right;\n",
       "    }\n",
       "</style>\n",
       "<table border=\"1\" class=\"dataframe\">\n",
       "  <thead>\n",
       "    <tr style=\"text-align: right;\">\n",
       "      <th></th>\n",
       "      <th>indicator_id</th>\n",
       "      <th>name</th>\n",
       "      <th>measure</th>\n",
       "      <th>geo_type_name</th>\n",
       "      <th>geo_join_id</th>\n",
       "      <th>data_value</th>\n",
       "      <th>geo_place_name</th>\n",
       "      <th>measure_info</th>\n",
       "      <th>time_period</th>\n",
       "      <th>message</th>\n",
       "      <th>start_date</th>\n",
       "      <th>unique_id</th>\n",
       "    </tr>\n",
       "  </thead>\n",
       "  <tbody>\n",
       "    <tr>\n",
       "      <th>0</th>\n",
       "      <td>643</td>\n",
       "      <td>Annual vehicle miles traveled</td>\n",
       "      <td>million miles</td>\n",
       "      <td>CD</td>\n",
       "      <td>107</td>\n",
       "      <td>50.0</td>\n",
       "      <td>Upper West Side (CD7)</td>\n",
       "      <td>per km2</td>\n",
       "      <td>2016</td>\n",
       "      <td>NaN</td>\n",
       "      <td>2016-01-01T00:00:00.000</td>\n",
       "      <td>325247</td>\n",
       "    </tr>\n",
       "    <tr>\n",
       "      <th>1</th>\n",
       "      <td>652</td>\n",
       "      <td>Cardiac and respiratory deaths due to Ozone</td>\n",
       "      <td>Estimated annual rate</td>\n",
       "      <td>Borough</td>\n",
       "      <td>5</td>\n",
       "      <td>7.8</td>\n",
       "      <td>Staten Island</td>\n",
       "      <td>per 100,000</td>\n",
       "      <td>2005-2007</td>\n",
       "      <td>NaN</td>\n",
       "      <td>2005-01-01T00:00:00.000</td>\n",
       "      <td>131026</td>\n",
       "    </tr>\n",
       "    <tr>\n",
       "      <th>2</th>\n",
       "      <td>652</td>\n",
       "      <td>Cardiac and respiratory deaths due to Ozone</td>\n",
       "      <td>Estimated annual rate</td>\n",
       "      <td>UHF42</td>\n",
       "      <td>504</td>\n",
       "      <td>7.5</td>\n",
       "      <td>South Beach - Tottenville</td>\n",
       "      <td>per 100,000</td>\n",
       "      <td>2005-2007</td>\n",
       "      <td>NaN</td>\n",
       "      <td>2005-01-01T00:00:00.000</td>\n",
       "      <td>131020</td>\n",
       "    </tr>\n",
       "    <tr>\n",
       "      <th>3</th>\n",
       "      <td>647</td>\n",
       "      <td>Outdoor Air Toxics - Formaldehyde</td>\n",
       "      <td>Annual average concentration</td>\n",
       "      <td>Borough</td>\n",
       "      <td>5</td>\n",
       "      <td>2.3</td>\n",
       "      <td>Staten Island</td>\n",
       "      <td>µg/m3</td>\n",
       "      <td>2005</td>\n",
       "      <td>NaN</td>\n",
       "      <td>2005-01-01T00:00:00.000</td>\n",
       "      <td>130780</td>\n",
       "    </tr>\n",
       "    <tr>\n",
       "      <th>4</th>\n",
       "      <td>647</td>\n",
       "      <td>Outdoor Air Toxics - Formaldehyde</td>\n",
       "      <td>Annual average concentration</td>\n",
       "      <td>UHF42</td>\n",
       "      <td>211</td>\n",
       "      <td>3.1</td>\n",
       "      <td>Williamsburg - Bushwick</td>\n",
       "      <td>µg/m3</td>\n",
       "      <td>2005</td>\n",
       "      <td>NaN</td>\n",
       "      <td>2005-01-01T00:00:00.000</td>\n",
       "      <td>130750</td>\n",
       "    </tr>\n",
       "  </tbody>\n",
       "</table>\n",
       "</div>"
      ],
      "text/plain": [
       "   indicator_id                                         name  \\\n",
       "0           643                Annual vehicle miles traveled   \n",
       "1           652  Cardiac and respiratory deaths due to Ozone   \n",
       "2           652  Cardiac and respiratory deaths due to Ozone   \n",
       "3           647            Outdoor Air Toxics - Formaldehyde   \n",
       "4           647            Outdoor Air Toxics - Formaldehyde   \n",
       "\n",
       "                        measure geo_type_name  geo_join_id  data_value  \\\n",
       "0                 million miles            CD          107        50.0   \n",
       "1         Estimated annual rate       Borough            5         7.8   \n",
       "2         Estimated annual rate         UHF42          504         7.5   \n",
       "3  Annual average concentration       Borough            5         2.3   \n",
       "4  Annual average concentration         UHF42          211         3.1   \n",
       "\n",
       "              geo_place_name measure_info time_period  message  \\\n",
       "0      Upper West Side (CD7)      per km2        2016      NaN   \n",
       "1              Staten Island  per 100,000   2005-2007      NaN   \n",
       "2  South Beach - Tottenville  per 100,000   2005-2007      NaN   \n",
       "3              Staten Island        µg/m3        2005      NaN   \n",
       "4    Williamsburg - Bushwick        µg/m3        2005      NaN   \n",
       "\n",
       "                start_date  unique_id  \n",
       "0  2016-01-01T00:00:00.000     325247  \n",
       "1  2005-01-01T00:00:00.000     131026  \n",
       "2  2005-01-01T00:00:00.000     131020  \n",
       "3  2005-01-01T00:00:00.000     130780  \n",
       "4  2005-01-01T00:00:00.000     130750  "
      ]
     },
     "execution_count": 3,
     "metadata": {},
     "output_type": "execute_result"
    }
   ],
   "source": [
    "# Revisampos el dataset de manera general\n",
    "df_Calidad_del_aire.head()"
   ]
  },
  {
   "cell_type": "code",
   "execution_count": 4,
   "metadata": {},
   "outputs": [
    {
     "name": "stdout",
     "output_type": "stream",
     "text": [
      "<class 'pandas.core.frame.DataFrame'>\n",
      "RangeIndex: 16218 entries, 0 to 16217\n",
      "Data columns (total 12 columns):\n",
      " #   Column          Non-Null Count  Dtype  \n",
      "---  ------          --------------  -----  \n",
      " 0   indicator_id    16218 non-null  int64  \n",
      " 1   name            16218 non-null  object \n",
      " 2   measure         16218 non-null  object \n",
      " 3   geo_type_name   16218 non-null  object \n",
      " 4   geo_join_id     16218 non-null  int64  \n",
      " 5   data_value      16218 non-null  float64\n",
      " 6   geo_place_name  16218 non-null  object \n",
      " 7   measure_info    16218 non-null  object \n",
      " 8   time_period     16218 non-null  object \n",
      " 9   message         0 non-null      float64\n",
      " 10  start_date      16218 non-null  object \n",
      " 11  unique_id       16218 non-null  int64  \n",
      "dtypes: float64(2), int64(3), object(7)\n",
      "memory usage: 1.5+ MB\n"
     ]
    }
   ],
   "source": [
    "# Revisamos la información de cada columna como los valores faltantes \n",
    "df_Calidad_del_aire.info()"
   ]
  },
  {
   "cell_type": "code",
   "execution_count": 5,
   "metadata": {},
   "outputs": [],
   "source": [
    "# Borramos las columna message ya que todos sus valores son nulos\n",
    "df_Calidad_del_aire = df_Calidad_del_aire.drop('message', axis= 1)"
   ]
  },
  {
   "cell_type": "code",
   "execution_count": 6,
   "metadata": {},
   "outputs": [],
   "source": [
    "# Realizamos la transformación del tipo de fecha start_date a un formato correcto \n",
    "df_Calidad_del_aire['Date'] = df_Calidad_del_aire['start_date'].apply(lambda x: datetime.strptime(x, '%Y-%m-%dT%H:%M:%S.%f').date())\n",
    "# Trasformamos la columna a un tipo datetime y luego extraemos solo la fecha\n",
    "df_Calidad_del_aire['Date'] = pd.to_datetime(df_Calidad_del_aire['Date']).dt.date"
   ]
  },
  {
   "cell_type": "code",
   "execution_count": 7,
   "metadata": {},
   "outputs": [],
   "source": [
    "# Borramos la columna star_date ya que es cambiada por la date\n",
    "df_Calidad_del_aire = df_Calidad_del_aire.drop('start_date', axis= 1)"
   ]
  },
  {
   "cell_type": "code",
   "execution_count": 8,
   "metadata": {},
   "outputs": [],
   "source": [
    "# Extraemos el año de nuestra columna date\n",
    "df_Calidad_del_aire['Year'] = df_Calidad_del_aire['Date'].apply(lambda x: x.year)"
   ]
  },
  {
   "cell_type": "code",
   "execution_count": 9,
   "metadata": {},
   "outputs": [],
   "source": [
    "# Guarda el dataframe en la carpeta Data\n",
    "df_Calidad_del_aire.to_parquet('Data/Calidad_aireL.parquet', index= False)"
   ]
  }
 ],
 "metadata": {
  "kernelspec": {
   "display_name": "Python 3",
   "language": "python",
   "name": "python3"
  },
  "language_info": {
   "codemirror_mode": {
    "name": "ipython",
    "version": 3
   },
   "file_extension": ".py",
   "mimetype": "text/x-python",
   "name": "python",
   "nbconvert_exporter": "python",
   "pygments_lexer": "ipython3",
   "version": "3.10.10"
  }
 },
 "nbformat": 4,
 "nbformat_minor": 2
}
