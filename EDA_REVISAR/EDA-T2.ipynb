{
 "cells": [
  {
   "cell_type": "markdown",
   "metadata": {},
   "source": [
    "# Principio de EDA"
   ]
  },
  {
   "cell_type": "code",
   "execution_count": null,
   "metadata": {},
   "outputs": [],
   "source": [
    "# Función para categorizar los vehículos\n",
    "def categorize_vehicle(row):\n",
    "    if row['Fuel_Type'] in ['Diesel', 'Petrol', 'Petrol/LPG']:\n",
    "        return 'Convencional'\n",
    "    elif row['Fuel_Type'] == 'Electricity':\n",
    "        return 'Eléctrico'\n",
    "    else:\n",
    "        return 'Híbrido'\n",
    "\n",
    "# Aplicar la función al dataframe\n",
    "df['Vehicle_Type'] = df.apply(categorize_vehicle, axis=1)\n",
    "\n",
    "# Verificar la distribución\n",
    "print(df['Vehicle_Type'].value_counts())\n"
   ]
  },
  {
   "cell_type": "code",
   "execution_count": null,
   "metadata": {},
   "outputs": [],
   "source": [
    "# Resumen estadístico\n",
    "summary = df.groupby('Vehicle_Type')[['Fuel_Cost', 'Electric_Cost', 'Total_Cost', 'Noise_Level']].describe()\n",
    "print(summary)\n",
    "\n",
    "# Boxplot para comparar costos\n",
    "plt.figure(figsize=(10, 6))\n",
    "sns.boxplot(x='Vehicle_Type', y='Total_Cost', data=df)\n",
    "plt.title('Distribución de Costos Totales por Tipo de Vehículo')\n",
    "plt.show()\n",
    "\n",
    "# Boxplot para comparar niveles de ruido\n",
    "plt.figure(figsize=(10, 6))\n",
    "sns.boxplot(x='Vehicle_Type', y='Noise_Level', data=df)\n",
    "plt.title('Distribución de Niveles de Ruido por Tipo de Vehículo')\n",
    "plt.show()\n"
   ]
  },
  {
   "cell_type": "code",
   "execution_count": null,
   "metadata": {},
   "outputs": [],
   "source": [
    "# Sumar costos por tipo de vehículo\n",
    "total_cost_conventional = df[df['Vehicle_Type'] == 'Convencional']['Total_Cost'].sum()\n",
    "total_cost_electric_hybrid = df[df['Vehicle_Type'].isin(['Eléctrico', 'Híbrido'])]['Total_Cost'].sum()\n",
    "\n",
    "# Calcular el KPI\n",
    "kpi = (total_cost_electric_hybrid / total_cost_conventional) * 100\n",
    "print(f\"KPI: {kpi:.2f}% de reducción de costos operativos al usar vehículos eléctricos o híbridos.\")\n"
   ]
  },
  {
   "cell_type": "code",
   "execution_count": null,
   "metadata": {},
   "outputs": [],
   "source": [
    "# Calcular promedio y desviación estándar de los niveles de ruido\n",
    "noise_summary = df.groupby('Vehicle_Type')['Noise_Level'].agg(['mean', 'std'])\n",
    "print(noise_summary)\n",
    "\n",
    "# Gráfico de barras para comparar niveles de ruido\n",
    "plt.figure(figsize=(10, 6))\n",
    "# Extraer los valores de la desviación estándar en una lista\n",
    "std_values = noise_summary['std'].values\n"
   ]
  },
  {
   "cell_type": "code",
   "execution_count": null,
   "metadata": {},
   "outputs": [],
   "source": [
    "import matplotlib.pyplot as plt\n",
    "\n",
    "# Calcular promedio y desviación estándar de los niveles de ruido\n",
    "noise_summary = df.groupby('Vehicle_Type')['Noise_Level'].agg(['mean', 'std'])\n",
    "print(noise_summary)\n",
    "\n",
    "# Gráfico de barras para comparar niveles de ruido\n",
    "plt.figure(figsize=(10, 6))\n",
    "plt.bar(noise_summary.index, noise_summary['mean'], yerr=std_values, capsize=5, color='skyblue')\n",
    "\n",
    "# Agregar títulos y etiquetas\n",
    "plt.title('Promedio de Niveles de Ruido por Tipo de Vehículo')\n",
    "plt.xlabel('Tipo de Vehículo')\n",
    "plt.ylabel('Nivel de Ruido (dB)')\n",
    "plt.xticks(rotation=0)\n",
    "\n",
    "# Mostrar el gráfico\n",
    "plt.show()\n"
   ]
  }
 ],
 "metadata": {
  "language_info": {
   "name": "python"
  }
 },
 "nbformat": 4,
 "nbformat_minor": 2
}
