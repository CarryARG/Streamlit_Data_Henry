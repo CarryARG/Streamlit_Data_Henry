{
 "cells": [
  {
   "cell_type": "markdown",
   "metadata": {},
   "source": [
    "# ETL"
   ]
  },
  {
   "cell_type": "markdown",
   "metadata": {},
   "source": [
    "### Cargo el dataset correspondiente desde la carpeta /sources para posteriormente analizarlo, limpiarlo y guardarlo en la carpeta /Data"
   ]
  },
  {
   "cell_type": "code",
   "execution_count": 1,
   "metadata": {},
   "outputs": [],
   "source": [
    "# Importamos las librerias que vamos a utilizar\n",
    "import pandas as pd\n",
    "import warnings\n",
    "warnings.filterwarnings(\"ignore\")"
   ]
  },
  {
   "cell_type": "code",
   "execution_count": 2,
   "metadata": {},
   "outputs": [],
   "source": [
    "# Acceso a el cvs y se pasa a un dataframe \n",
    "df_energy = pd.read_csv('./sources/energy_clean.csv')"
   ]
  },
  {
   "cell_type": "code",
   "execution_count": 3,
   "metadata": {},
   "outputs": [
    {
     "data": {
      "text/html": [
       "<div>\n",
       "<style scoped>\n",
       "    .dataframe tbody tr th:only-of-type {\n",
       "        vertical-align: middle;\n",
       "    }\n",
       "\n",
       "    .dataframe tbody tr th {\n",
       "        vertical-align: top;\n",
       "    }\n",
       "\n",
       "    .dataframe thead th {\n",
       "        text-align: right;\n",
       "    }\n",
       "</style>\n",
       "<table border=\"1\" class=\"dataframe\">\n",
       "  <thead>\n",
       "    <tr style=\"text-align: right;\">\n",
       "      <th></th>\n",
       "      <th>Country</th>\n",
       "      <th>Energy_type</th>\n",
       "      <th>Year</th>\n",
       "      <th>Energy_consumption</th>\n",
       "      <th>Energy_production</th>\n",
       "      <th>GDP</th>\n",
       "      <th>Population</th>\n",
       "      <th>Energy_intensity_per_capita</th>\n",
       "      <th>Energy_intensity_by_GDP</th>\n",
       "      <th>CO2_emission</th>\n",
       "      <th>Energy_efficiency</th>\n",
       "      <th>Energy_ratio</th>\n",
       "      <th>CO2_per_capita</th>\n",
       "    </tr>\n",
       "  </thead>\n",
       "  <tbody>\n",
       "    <tr>\n",
       "      <th>0</th>\n",
       "      <td>United States</td>\n",
       "      <td>all_energy_types</td>\n",
       "      <td>1980</td>\n",
       "      <td>78.021113</td>\n",
       "      <td>67.146595</td>\n",
       "      <td>7080.75</td>\n",
       "      <td>227119.0</td>\n",
       "      <td>343.525258</td>\n",
       "      <td>11.018764</td>\n",
       "      <td>4946.627130</td>\n",
       "      <td>0.860621</td>\n",
       "      <td>0.860621</td>\n",
       "      <td>0.021780</td>\n",
       "    </tr>\n",
       "    <tr>\n",
       "      <th>1</th>\n",
       "      <td>United States</td>\n",
       "      <td>coal</td>\n",
       "      <td>1980</td>\n",
       "      <td>15.422809</td>\n",
       "      <td>18.597725</td>\n",
       "      <td>7080.75</td>\n",
       "      <td>227119.0</td>\n",
       "      <td>343.525258</td>\n",
       "      <td>11.018764</td>\n",
       "      <td>1409.790188</td>\n",
       "      <td>1.205858</td>\n",
       "      <td>1.205858</td>\n",
       "      <td>0.006207</td>\n",
       "    </tr>\n",
       "  </tbody>\n",
       "</table>\n",
       "</div>"
      ],
      "text/plain": [
       "         Country       Energy_type  Year  Energy_consumption  \\\n",
       "0  United States  all_energy_types  1980           78.021113   \n",
       "1  United States              coal  1980           15.422809   \n",
       "\n",
       "   Energy_production      GDP  Population  Energy_intensity_per_capita  \\\n",
       "0          67.146595  7080.75    227119.0                   343.525258   \n",
       "1          18.597725  7080.75    227119.0                   343.525258   \n",
       "\n",
       "   Energy_intensity_by_GDP  CO2_emission  Energy_efficiency  Energy_ratio  \\\n",
       "0                11.018764   4946.627130           0.860621      0.860621   \n",
       "1                11.018764   1409.790188           1.205858      1.205858   \n",
       "\n",
       "   CO2_per_capita  \n",
       "0        0.021780  \n",
       "1        0.006207  "
      ]
     },
     "execution_count": 3,
     "metadata": {},
     "output_type": "execute_result"
    }
   ],
   "source": [
    "# Visualización de manera general\n",
    "df_energy.head(2)"
   ]
  },
  {
   "cell_type": "code",
   "execution_count": 4,
   "metadata": {},
   "outputs": [],
   "source": [
    "#  Eliminación de columnas no necesarias\n",
    "df_energy = df_energy.drop(columns=['Energy_production', 'GDP', 'Population', 'Energy_intensity_per_capita','Energy_intensity_by_GDP','Energy_efficiency','Energy_ratio','CO2_per_capita'])"
   ]
  },
  {
   "cell_type": "code",
   "execution_count": 5,
   "metadata": {},
   "outputs": [
    {
     "data": {
      "text/html": [
       "<div>\n",
       "<style scoped>\n",
       "    .dataframe tbody tr th:only-of-type {\n",
       "        vertical-align: middle;\n",
       "    }\n",
       "\n",
       "    .dataframe tbody tr th {\n",
       "        vertical-align: top;\n",
       "    }\n",
       "\n",
       "    .dataframe thead th {\n",
       "        text-align: right;\n",
       "    }\n",
       "</style>\n",
       "<table border=\"1\" class=\"dataframe\">\n",
       "  <thead>\n",
       "    <tr style=\"text-align: right;\">\n",
       "      <th></th>\n",
       "      <th>Country</th>\n",
       "      <th>Energy_type</th>\n",
       "      <th>Year</th>\n",
       "      <th>Energy_consumption</th>\n",
       "      <th>CO2_emission</th>\n",
       "    </tr>\n",
       "  </thead>\n",
       "  <tbody>\n",
       "    <tr>\n",
       "      <th>0</th>\n",
       "      <td>United States</td>\n",
       "      <td>all_energy_types</td>\n",
       "      <td>1980</td>\n",
       "      <td>78.021113</td>\n",
       "      <td>4946.627130</td>\n",
       "    </tr>\n",
       "    <tr>\n",
       "      <th>1</th>\n",
       "      <td>United States</td>\n",
       "      <td>coal</td>\n",
       "      <td>1980</td>\n",
       "      <td>15.422809</td>\n",
       "      <td>1409.790188</td>\n",
       "    </tr>\n",
       "    <tr>\n",
       "      <th>2</th>\n",
       "      <td>United States</td>\n",
       "      <td>natural_gas</td>\n",
       "      <td>1980</td>\n",
       "      <td>20.235459</td>\n",
       "      <td>1081.593377</td>\n",
       "    </tr>\n",
       "    <tr>\n",
       "      <th>3</th>\n",
       "      <td>United States</td>\n",
       "      <td>petroleum_n_other_liquids</td>\n",
       "      <td>1980</td>\n",
       "      <td>34.158965</td>\n",
       "      <td>2455.243565</td>\n",
       "    </tr>\n",
       "    <tr>\n",
       "      <th>4</th>\n",
       "      <td>United States</td>\n",
       "      <td>nuclear</td>\n",
       "      <td>1980</td>\n",
       "      <td>2.739169</td>\n",
       "      <td>0.000000</td>\n",
       "    </tr>\n",
       "  </tbody>\n",
       "</table>\n",
       "</div>"
      ],
      "text/plain": [
       "         Country                Energy_type  Year  Energy_consumption  \\\n",
       "0  United States           all_energy_types  1980           78.021113   \n",
       "1  United States                       coal  1980           15.422809   \n",
       "2  United States                natural_gas  1980           20.235459   \n",
       "3  United States  petroleum_n_other_liquids  1980           34.158965   \n",
       "4  United States                    nuclear  1980            2.739169   \n",
       "\n",
       "   CO2_emission  \n",
       "0   4946.627130  \n",
       "1   1409.790188  \n",
       "2   1081.593377  \n",
       "3   2455.243565  \n",
       "4      0.000000  "
      ]
     },
     "execution_count": 5,
     "metadata": {},
     "output_type": "execute_result"
    }
   ],
   "source": [
    "# Visualización de manera general\n",
    "df_energy.head()"
   ]
  },
  {
   "cell_type": "code",
   "execution_count": 6,
   "metadata": {},
   "outputs": [
    {
     "name": "stdout",
     "output_type": "stream",
     "text": [
      "<class 'pandas.core.frame.DataFrame'>\n",
      "RangeIndex: 240 entries, 0 to 239\n",
      "Data columns (total 5 columns):\n",
      " #   Column              Non-Null Count  Dtype  \n",
      "---  ------              --------------  -----  \n",
      " 0   Country             240 non-null    object \n",
      " 1   Energy_type         240 non-null    object \n",
      " 2   Year                240 non-null    int64  \n",
      " 3   Energy_consumption  240 non-null    float64\n",
      " 4   CO2_emission        240 non-null    float64\n",
      "dtypes: float64(2), int64(1), object(2)\n",
      "memory usage: 9.5+ KB\n"
     ]
    }
   ],
   "source": [
    "# Se analisa la informacion y estadisticas del nuevo dataset ya limpio con sus datos filtrados\n",
    "df_energy.info()"
   ]
  },
  {
   "cell_type": "code",
   "execution_count": 7,
   "metadata": {},
   "outputs": [
    {
     "name": "stdout",
     "output_type": "stream",
     "text": [
      "              Year  Energy_consumption  CO2_emission\n",
      "count   240.000000          240.000000    240.000000\n",
      "mean   1999.500000           30.382893   1763.365550\n",
      "std      11.567521           29.217416   1812.923064\n",
      "min    1980.000000            2.739169      0.000000\n",
      "25%    1989.750000            8.268239      0.000000\n",
      "50%    1999.500000           20.917941   1443.310385\n",
      "75%    2009.250000           35.778914   2273.854313\n",
      "max    2019.000000          101.203413   6015.537927\n"
     ]
    }
   ],
   "source": [
    "# Estadisticas del Dataframe\n",
    "summary_stats = df_energy.describe()\n",
    "print(summary_stats)"
   ]
  },
  {
   "cell_type": "code",
   "execution_count": 8,
   "metadata": {},
   "outputs": [],
   "source": [
    "# Guarda el dataframe en la carpeta Data\n",
    "df_energy.to_csv('Data/energy_clean_clean.csv', index= False)"
   ]
  }
 ],
 "metadata": {
  "kernelspec": {
   "display_name": "Python 3",
   "language": "python",
   "name": "python3"
  },
  "language_info": {
   "codemirror_mode": {
    "name": "ipython",
    "version": 3
   },
   "file_extension": ".py",
   "mimetype": "text/x-python",
   "name": "python",
   "nbconvert_exporter": "python",
   "pygments_lexer": "ipython3",
   "version": "3.10.10"
  }
 },
 "nbformat": 4,
 "nbformat_minor": 2
}
