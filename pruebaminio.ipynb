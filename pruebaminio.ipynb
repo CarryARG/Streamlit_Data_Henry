{
 "cells": [
  {
   "cell_type": "code",
   "execution_count": null,
   "metadata": {},
   "outputs": [],
   "source": []
  },
  {
   "cell_type": "code",
   "execution_count": null,
   "metadata": {},
   "outputs": [],
   "source": [
    "from minio import Minio\n",
    "\n",
    "# Conectar con MinIO (usa tu IP pública si es remoto)\n",
    "client = Minio(\n",
    "    \"tu-ip-publica:9000\",  # Cambia por localhost:9000 si es acceso local\n",
    "    access_key=\"admin\",     # El usuario que configuraste\n",
    "    secret_key=\"password\",  # La contraseña que configuraste\n",
    "    secure=False  # Cambia a True si tienes SSL configurado\n",
    ")\n",
    "\n",
    "# Crear un bucket\n",
    "bucket_name = \"mi-bucket\"\n",
    "if not client.bucket_exists(bucket_name):\n",
    "    client.make_bucket(bucket_name)\n",
    "    print(f\"Bucket '{bucket_name}' creado.\")\n",
    "else:\n",
    "    print(f\"Bucket '{bucket_name}' ya existe.\")\n",
    "\n",
    "# Subir un archivo\n",
    "client.fput_object(bucket_name, \"archivo.txt\", \"ruta/local/del/archivo.txt\")\n",
    "print(\"Archivo subido correctamente.\")"
   ]
  }
 ],
 "metadata": {
  "language_info": {
   "name": "python"
  }
 },
 "nbformat": 4,
 "nbformat_minor": 2
}
